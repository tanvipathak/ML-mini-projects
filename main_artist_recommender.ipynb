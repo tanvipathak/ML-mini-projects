{
  "nbformat": 4,
  "nbformat_minor": 0,
  "metadata": {
    "colab": {
      "name": "main-artist-recommender.ipynb",
      "provenance": [],
      "collapsed_sections": [
        "DlloL_gLuSfm",
        "XalW4IaLuSfq",
        "hB0Pph9euSfs",
        "L0KwIf6OuSf2",
        "sv9YZNNSuSf5",
        "kpayvzcguSf7",
        "zglSuu0suSf9",
        "xLtpZZ3guSgB",
        "jVBDLEXiuSgH"
      ],
      "include_colab_link": true
    },
    "kernelspec": {
      "display_name": "Python 3",
      "language": "python",
      "name": "python3"
    },
    "language_info": {
      "codemirror_mode": {
        "name": "ipython",
        "version": 3
      },
      "file_extension": ".py",
      "mimetype": "text/x-python",
      "name": "python",
      "nbconvert_exporter": "python",
      "pygments_lexer": "ipython3",
      "version": "3.7.9"
    }
  },
  "cells": [
    {
      "cell_type": "markdown",
      "metadata": {
        "id": "view-in-github",
        "colab_type": "text"
      },
      "source": [
        "<a href=\"https://colab.research.google.com/github/tanvipathak/Machine-Learning-from-scratch/blob/master/main_artist_recommender.ipynb\" target=\"_parent\"><img src=\"https://colab.research.google.com/assets/colab-badge.svg\" alt=\"Open In Colab\"/></a>"
      ]
    },
    {
      "cell_type": "markdown",
      "metadata": {
        "id": "oPzu7bbEuSfE"
      },
      "source": [
        "# Artist Recommender using KNeighbors Algorithm on Spotify Data:\n",
        "### By: Tanvi Pathak (18070124072) Hridyesh Bisht(18070124030) and Sejal Shrestha (18070124064) "
      ]
    },
    {
      "cell_type": "markdown",
      "metadata": {
        "id": "FQ75-FsSuSfS"
      },
      "source": [
        "# Introduction"
      ]
    },
    {
      "cell_type": "markdown",
      "metadata": {
        "id": "JOpafrp4uSfU"
      },
      "source": [
        "This is a notebook trying to find you the best alternatives to your favorite musician. The input data is a list of about 30,000 artists from all over the world defined by their most common style features. This recommender returns the most similar artists for a queried musician.\n",
        "\n",
        "We have used a simple KNeighborsRegressor model from Scikit Learn to define the nearest neighbors of the given artists in the data set. \n"
      ]
    },
    {
      "cell_type": "markdown",
      "metadata": {
        "id": "6s6aSYVWFsxM"
      },
      "source": [
        "## Mounting data set into google drive \n"
      ]
    },
    {
      "cell_type": "code",
      "metadata": {
        "colab": {
          "base_uri": "https://localhost:8080/"
        },
        "id": "B46DfNd3HjFc",
        "outputId": "353de58f-1c22-421b-c7bc-23784bc037f8"
      },
      "source": [
        "from google.colab import drive\n",
        "drive.flush_and_unmount()"
      ],
      "execution_count": null,
      "outputs": [
        {
          "output_type": "stream",
          "text": [
            "Drive not mounted, so nothing to flush and unmount.\n"
          ],
          "name": "stdout"
        }
      ]
    },
    {
      "cell_type": "code",
      "metadata": {
        "colab": {
          "background_save": true
        },
        "id": "HiSk7DNBuq75",
        "outputId": "c3768b03-9dd7-4fbc-f470-ce2afb5ed58f"
      },
      "source": [
        "from google.colab import drive\n",
        "drive.mount('/content/gdrive')"
      ],
      "execution_count": null,
      "outputs": [
        {
          "output_type": "stream",
          "text": [
            "Mounted at /content/gdrive\n"
          ],
          "name": "stdout"
        }
      ]
    },
    {
      "cell_type": "code",
      "metadata": {
        "colab": {
          "background_save": true
        },
        "id": "_OVi7MU-v1Tj"
      },
      "source": [
        "import os\n",
        "os.environ['KAGGLE_CONFIG_DIR'] = \"/content/gdrive/My Drive/Kaggle\"\n",
        "# /content/gdrive/My Drive/Kaggle is the path where kaggle.json is present in the Google Drive"
      ],
      "execution_count": null,
      "outputs": []
    },
    {
      "cell_type": "code",
      "metadata": {
        "colab": {
          "background_save": true
        },
        "id": "I8zwvbogv8hr",
        "outputId": "75e76c74-3ea4-4deb-9adb-35d1a0e8f222"
      },
      "source": [
        "%cd /content/gdrive/My Drive/Kaggle"
      ],
      "execution_count": null,
      "outputs": [
        {
          "output_type": "stream",
          "text": [
            "/content/gdrive/My Drive/Kaggle\n"
          ],
          "name": "stdout"
        }
      ]
    },
    {
      "cell_type": "code",
      "metadata": {
        "colab": {
          "background_save": true
        },
        "id": "9xLUFPz1waK9",
        "outputId": "c5f74b2f-ec2d-4803-9ddc-7f9b0fa8dcd6"
      },
      "source": [
        "!kaggle datasets download -d yamaerenay/spotify-dataset-19212020-160k-tracks"
      ],
      "execution_count": null,
      "outputs": [
        {
          "output_type": "stream",
          "text": [
            "4/1AY0e-g7UOnv9QKTOCnjI7MR4CIsVz4_CBmTUeqx0maxyR_bsYdfp3ODq-IUDownloading spotify-dataset-19212020-160k-tracks.zip to /content/gdrive/My Drive/Kaggle\n",
            " 97% 190M/195M [00:03<00:00, 92.6MB/s]\n",
            "100% 195M/195M [00:03<00:00, 57.2MB/s]\n"
          ],
          "name": "stdout"
        }
      ]
    },
    {
      "cell_type": "code",
      "metadata": {
        "id": "1lkLrUmWwgq4"
      },
      "source": [
        "!unzip \\*.zip  && rm *.zip"
      ],
      "execution_count": null,
      "outputs": []
    },
    {
      "cell_type": "markdown",
      "metadata": {
        "id": "J673E6k9uSfW"
      },
      "source": [
        "## Importing libraries"
      ]
    },
    {
      "cell_type": "code",
      "metadata": {
        "id": "wcQok2JxuSfZ"
      },
      "source": [
        "# TABLES & VIS\n",
        "import pandas as pd\n",
        "import seaborn as sns\n",
        "import matplotlib.pyplot as plt\n",
        "from ast import literal_eval \n",
        "import numpy as np\n",
        "\n",
        "# NLTK\n",
        "import regex as re\n",
        "import unicodedata\n",
        "\n",
        "#Sklearn\n",
        "from sklearn.neighbors import KNeighborsRegressor\n",
        "from sklearn.metrics import classification_report,accuracy_score,precision_score,recall_score,f1_score"
      ],
      "execution_count": null,
      "outputs": []
    },
    {
      "cell_type": "markdown",
      "metadata": {
        "id": "r_53QgaQuSfb"
      },
      "source": [
        "# The Dataset "
      ]
    },
    {
      "cell_type": "markdown",
      "metadata": {
        "id": "-ocl8e5KuSfb"
      },
      "source": [
        "The data set provided on [Kaggle](https://www.kaggle.com/yamaerenay/spotify-dataset-19212020-160k-tracks?select=data_by_artist_o.csv).\n",
        "1. It has a total of 29,000 artists and their audio features.\n",
        "2. The features are aggregated by mean (for numerical) and mode (for categorical values). "
      ]
    },
    {
      "cell_type": "code",
      "metadata": {
        "colab": {
          "base_uri": "https://localhost:8080/"
        },
        "id": "r1nznA-vuSfc",
        "outputId": "812dafb4-9f2d-41ac-9091-4a5d2e615c53"
      },
      "source": [
        "df = pd.read_csv('/content/gdrive/My Drive/Kaggle/data_by_artist_o.csv')\n",
        "df.shape"
      ],
      "execution_count": null,
      "outputs": [
        {
          "output_type": "execute_result",
          "data": {
            "text/plain": [
              "(28680, 16)"
            ]
          },
          "metadata": {
            "tags": []
          },
          "execution_count": 11
        }
      ]
    },
    {
      "cell_type": "code",
      "metadata": {
        "colab": {
          "base_uri": "https://localhost:8080/",
          "height": 791
        },
        "id": "tHWYZhcduSfh",
        "outputId": "a496d5a9-2dfd-4000-a8f3-29d56341efbc"
      },
      "source": [
        "df.sample(10)"
      ],
      "execution_count": null,
      "outputs": [
        {
          "output_type": "execute_result",
          "data": {
            "text/html": [
              "<div>\n",
              "<style scoped>\n",
              "    .dataframe tbody tr th:only-of-type {\n",
              "        vertical-align: middle;\n",
              "    }\n",
              "\n",
              "    .dataframe tbody tr th {\n",
              "        vertical-align: top;\n",
              "    }\n",
              "\n",
              "    .dataframe thead th {\n",
              "        text-align: right;\n",
              "    }\n",
              "</style>\n",
              "<table border=\"1\" class=\"dataframe\">\n",
              "  <thead>\n",
              "    <tr style=\"text-align: right;\">\n",
              "      <th></th>\n",
              "      <th>genres</th>\n",
              "      <th>artists</th>\n",
              "      <th>acousticness</th>\n",
              "      <th>danceability</th>\n",
              "      <th>duration_ms</th>\n",
              "      <th>energy</th>\n",
              "      <th>instrumentalness</th>\n",
              "      <th>liveness</th>\n",
              "      <th>loudness</th>\n",
              "      <th>speechiness</th>\n",
              "      <th>tempo</th>\n",
              "      <th>valence</th>\n",
              "      <th>popularity</th>\n",
              "      <th>key</th>\n",
              "      <th>mode</th>\n",
              "      <th>count</th>\n",
              "    </tr>\n",
              "  </thead>\n",
              "  <tbody>\n",
              "    <tr>\n",
              "      <th>14581</th>\n",
              "      <td>['chicago drill', 'chicago rap', 'drill', 'hip...</td>\n",
              "      <td>Lil Durk</td>\n",
              "      <td>0.183778</td>\n",
              "      <td>0.749120</td>\n",
              "      <td>188932.840000</td>\n",
              "      <td>0.572820</td>\n",
              "      <td>0.000002</td>\n",
              "      <td>0.139886</td>\n",
              "      <td>-7.222940</td>\n",
              "      <td>0.306650</td>\n",
              "      <td>132.989740</td>\n",
              "      <td>0.421734</td>\n",
              "      <td>66.800000</td>\n",
              "      <td>1</td>\n",
              "      <td>0</td>\n",
              "      <td>50</td>\n",
              "    </tr>\n",
              "    <tr>\n",
              "      <th>9905</th>\n",
              "      <td>[]</td>\n",
              "      <td>Hal Hopper</td>\n",
              "      <td>0.820000</td>\n",
              "      <td>0.680000</td>\n",
              "      <td>207467.000000</td>\n",
              "      <td>0.378000</td>\n",
              "      <td>0.000056</td>\n",
              "      <td>0.191000</td>\n",
              "      <td>-14.928000</td>\n",
              "      <td>0.284000</td>\n",
              "      <td>104.120000</td>\n",
              "      <td>0.624000</td>\n",
              "      <td>12.000000</td>\n",
              "      <td>6</td>\n",
              "      <td>1</td>\n",
              "      <td>1</td>\n",
              "    </tr>\n",
              "    <tr>\n",
              "      <th>12402</th>\n",
              "      <td>[]</td>\n",
              "      <td>Johnny Jenkins</td>\n",
              "      <td>0.361400</td>\n",
              "      <td>0.647800</td>\n",
              "      <td>258993.200000</td>\n",
              "      <td>0.684000</td>\n",
              "      <td>0.130780</td>\n",
              "      <td>0.184460</td>\n",
              "      <td>-9.825600</td>\n",
              "      <td>0.030860</td>\n",
              "      <td>93.665000</td>\n",
              "      <td>0.924800</td>\n",
              "      <td>34.200000</td>\n",
              "      <td>0</td>\n",
              "      <td>1</td>\n",
              "      <td>5</td>\n",
              "    </tr>\n",
              "    <tr>\n",
              "      <th>23063</th>\n",
              "      <td>['chicano rap', 'g funk', 'gangster rap', 'wes...</td>\n",
              "      <td>South Central Cartel</td>\n",
              "      <td>0.258000</td>\n",
              "      <td>0.916000</td>\n",
              "      <td>326533.000000</td>\n",
              "      <td>0.794000</td>\n",
              "      <td>0.000000</td>\n",
              "      <td>0.090900</td>\n",
              "      <td>-6.897000</td>\n",
              "      <td>0.259000</td>\n",
              "      <td>111.672000</td>\n",
              "      <td>0.712000</td>\n",
              "      <td>35.000000</td>\n",
              "      <td>7</td>\n",
              "      <td>1</td>\n",
              "      <td>2</td>\n",
              "    </tr>\n",
              "    <tr>\n",
              "      <th>9388</th>\n",
              "      <td>['emo rap', 'melodic rap', 'sad rap', 'undergr...</td>\n",
              "      <td>Global Dan</td>\n",
              "      <td>0.046100</td>\n",
              "      <td>0.552000</td>\n",
              "      <td>180080.000000</td>\n",
              "      <td>0.733000</td>\n",
              "      <td>0.000000</td>\n",
              "      <td>0.070300</td>\n",
              "      <td>-6.626000</td>\n",
              "      <td>0.202000</td>\n",
              "      <td>159.818000</td>\n",
              "      <td>0.333000</td>\n",
              "      <td>61.000000</td>\n",
              "      <td>6</td>\n",
              "      <td>1</td>\n",
              "      <td>1</td>\n",
              "    </tr>\n",
              "    <tr>\n",
              "      <th>8691</th>\n",
              "      <td>['gangster rap', 'hardcore hip hop', 'hip hop'...</td>\n",
              "      <td>G-Unit</td>\n",
              "      <td>0.085939</td>\n",
              "      <td>0.698769</td>\n",
              "      <td>221378.500000</td>\n",
              "      <td>0.764385</td>\n",
              "      <td>0.000000</td>\n",
              "      <td>0.125312</td>\n",
              "      <td>-3.396731</td>\n",
              "      <td>0.286862</td>\n",
              "      <td>97.181346</td>\n",
              "      <td>0.693346</td>\n",
              "      <td>52.961538</td>\n",
              "      <td>11</td>\n",
              "      <td>0</td>\n",
              "      <td>26</td>\n",
              "    </tr>\n",
              "    <tr>\n",
              "      <th>24536</th>\n",
              "      <td>['adult standards', 'brill building pop', 'cla...</td>\n",
              "      <td>The Chordettes</td>\n",
              "      <td>0.938258</td>\n",
              "      <td>0.436152</td>\n",
              "      <td>140244.893939</td>\n",
              "      <td>0.114586</td>\n",
              "      <td>0.000333</td>\n",
              "      <td>0.207173</td>\n",
              "      <td>-15.628712</td>\n",
              "      <td>0.049330</td>\n",
              "      <td>105.777939</td>\n",
              "      <td>0.204612</td>\n",
              "      <td>11.515152</td>\n",
              "      <td>5</td>\n",
              "      <td>1</td>\n",
              "      <td>132</td>\n",
              "    </tr>\n",
              "    <tr>\n",
              "      <th>27984</th>\n",
              "      <td>['contemporary country', 'country', 'country r...</td>\n",
              "      <td>Zac Brown Band</td>\n",
              "      <td>0.256453</td>\n",
              "      <td>0.608922</td>\n",
              "      <td>230299.987013</td>\n",
              "      <td>0.665636</td>\n",
              "      <td>0.000306</td>\n",
              "      <td>0.157164</td>\n",
              "      <td>-6.066182</td>\n",
              "      <td>0.039584</td>\n",
              "      <td>125.412935</td>\n",
              "      <td>0.554403</td>\n",
              "      <td>53.857143</td>\n",
              "      <td>6</td>\n",
              "      <td>1</td>\n",
              "      <td>77</td>\n",
              "    </tr>\n",
              "    <tr>\n",
              "      <th>25305</th>\n",
              "      <td>['ambient', 'ambient house', 'electronica', 'i...</td>\n",
              "      <td>The Orb</td>\n",
              "      <td>0.015900</td>\n",
              "      <td>0.666000</td>\n",
              "      <td>259267.000000</td>\n",
              "      <td>0.669500</td>\n",
              "      <td>0.274500</td>\n",
              "      <td>0.430000</td>\n",
              "      <td>-14.510500</td>\n",
              "      <td>0.045250</td>\n",
              "      <td>105.003000</td>\n",
              "      <td>0.582000</td>\n",
              "      <td>36.000000</td>\n",
              "      <td>6</td>\n",
              "      <td>0</td>\n",
              "      <td>4</td>\n",
              "    </tr>\n",
              "    <tr>\n",
              "      <th>23464</th>\n",
              "      <td>['southern rock']</td>\n",
              "      <td>Still Water</td>\n",
              "      <td>0.000116</td>\n",
              "      <td>0.577000</td>\n",
              "      <td>189093.000000</td>\n",
              "      <td>0.812000</td>\n",
              "      <td>0.000255</td>\n",
              "      <td>0.065000</td>\n",
              "      <td>-6.075000</td>\n",
              "      <td>0.053600</td>\n",
              "      <td>128.810000</td>\n",
              "      <td>0.735000</td>\n",
              "      <td>40.000000</td>\n",
              "      <td>9</td>\n",
              "      <td>1</td>\n",
              "      <td>2</td>\n",
              "    </tr>\n",
              "  </tbody>\n",
              "</table>\n",
              "</div>"
            ],
            "text/plain": [
              "                                                  genres  ... count\n",
              "14581  ['chicago drill', 'chicago rap', 'drill', 'hip...  ...    50\n",
              "9905                                                  []  ...     1\n",
              "12402                                                 []  ...     5\n",
              "23063  ['chicano rap', 'g funk', 'gangster rap', 'wes...  ...     2\n",
              "9388   ['emo rap', 'melodic rap', 'sad rap', 'undergr...  ...     1\n",
              "8691   ['gangster rap', 'hardcore hip hop', 'hip hop'...  ...    26\n",
              "24536  ['adult standards', 'brill building pop', 'cla...  ...   132\n",
              "27984  ['contemporary country', 'country', 'country r...  ...    77\n",
              "25305  ['ambient', 'ambient house', 'electronica', 'i...  ...     4\n",
              "23464                                  ['southern rock']  ...     2\n",
              "\n",
              "[10 rows x 16 columns]"
            ]
          },
          "metadata": {
            "tags": []
          },
          "execution_count": 12
        }
      ]
    },
    {
      "cell_type": "code",
      "metadata": {
        "colab": {
          "base_uri": "https://localhost:8080/"
        },
        "id": "z2-V_XWJuSfi",
        "outputId": "0b7a4fd6-a500-4574-fbb6-f909671c8aae"
      },
      "source": [
        "df.dtypes"
      ],
      "execution_count": null,
      "outputs": [
        {
          "output_type": "execute_result",
          "data": {
            "text/plain": [
              "genres               object\n",
              "artists              object\n",
              "acousticness        float64\n",
              "danceability        float64\n",
              "duration_ms         float64\n",
              "energy              float64\n",
              "instrumentalness    float64\n",
              "liveness            float64\n",
              "loudness            float64\n",
              "speechiness         float64\n",
              "tempo               float64\n",
              "valence             float64\n",
              "popularity          float64\n",
              "key                   int64\n",
              "mode                  int64\n",
              "count                 int64\n",
              "dtype: object"
            ]
          },
          "metadata": {
            "tags": []
          },
          "execution_count": 13
        }
      ]
    },
    {
      "cell_type": "markdown",
      "metadata": {
        "id": "jf5aTj3tuSfk"
      },
      "source": [
        "# Features "
      ]
    },
    {
      "cell_type": "markdown",
      "metadata": {
        "id": "DlloL_gLuSfm"
      },
      "source": [
        "## Overview"
      ]
    },
    {
      "cell_type": "code",
      "metadata": {
        "colab": {
          "base_uri": "https://localhost:8080/"
        },
        "id": "9DG5poMWuSfn",
        "outputId": "20df0bb3-133e-41c2-da34-682b1cc0215e"
      },
      "source": [
        "print(f'It contains the following features \\n{list(df.columns)}')"
      ],
      "execution_count": null,
      "outputs": [
        {
          "output_type": "stream",
          "text": [
            "It contains the following features \n",
            "['genres', 'artists', 'acousticness', 'danceability', 'duration_ms', 'energy', 'instrumentalness', 'liveness', 'loudness', 'speechiness', 'tempo', 'valence', 'popularity', 'key', 'mode', 'count']\n"
          ],
          "name": "stdout"
        }
      ]
    },
    {
      "cell_type": "code",
      "metadata": {
        "colab": {
          "base_uri": "https://localhost:8080/"
        },
        "id": "acuph6w0uSfo",
        "outputId": "664953ad-e066-4664-b165-f298e934ac96"
      },
      "source": [
        "print(f'The data set has {(df.dtypes != \"object\").sum()} numerical features')"
      ],
      "execution_count": null,
      "outputs": [
        {
          "output_type": "stream",
          "text": [
            "The data set has 14 numerical features\n"
          ],
          "name": "stdout"
        }
      ]
    },
    {
      "cell_type": "code",
      "metadata": {
        "colab": {
          "base_uri": "https://localhost:8080/",
          "height": 314
        },
        "id": "ltojRIcBuSfp",
        "outputId": "4de829ea-d79b-4d52-9bab-e9c74aebe6f1"
      },
      "source": [
        "df.describe()"
      ],
      "execution_count": null,
      "outputs": [
        {
          "output_type": "execute_result",
          "data": {
            "text/html": [
              "<div>\n",
              "<style scoped>\n",
              "    .dataframe tbody tr th:only-of-type {\n",
              "        vertical-align: middle;\n",
              "    }\n",
              "\n",
              "    .dataframe tbody tr th {\n",
              "        vertical-align: top;\n",
              "    }\n",
              "\n",
              "    .dataframe thead th {\n",
              "        text-align: right;\n",
              "    }\n",
              "</style>\n",
              "<table border=\"1\" class=\"dataframe\">\n",
              "  <thead>\n",
              "    <tr style=\"text-align: right;\">\n",
              "      <th></th>\n",
              "      <th>acousticness</th>\n",
              "      <th>danceability</th>\n",
              "      <th>duration_ms</th>\n",
              "      <th>energy</th>\n",
              "      <th>instrumentalness</th>\n",
              "      <th>liveness</th>\n",
              "      <th>loudness</th>\n",
              "      <th>speechiness</th>\n",
              "      <th>tempo</th>\n",
              "      <th>valence</th>\n",
              "      <th>popularity</th>\n",
              "      <th>key</th>\n",
              "      <th>mode</th>\n",
              "      <th>count</th>\n",
              "    </tr>\n",
              "  </thead>\n",
              "  <tbody>\n",
              "    <tr>\n",
              "      <th>count</th>\n",
              "      <td>28680.000000</td>\n",
              "      <td>28680.000000</td>\n",
              "      <td>2.868000e+04</td>\n",
              "      <td>28680.000000</td>\n",
              "      <td>28680.000000</td>\n",
              "      <td>28680.000000</td>\n",
              "      <td>28680.000000</td>\n",
              "      <td>28680.000000</td>\n",
              "      <td>28680.000000</td>\n",
              "      <td>28680.000000</td>\n",
              "      <td>28680.000000</td>\n",
              "      <td>28680.000000</td>\n",
              "      <td>28680.000000</td>\n",
              "      <td>28680.000000</td>\n",
              "    </tr>\n",
              "    <tr>\n",
              "      <th>mean</th>\n",
              "      <td>0.498373</td>\n",
              "      <td>0.546490</td>\n",
              "      <td>2.388780e+05</td>\n",
              "      <td>0.497488</td>\n",
              "      <td>0.174756</td>\n",
              "      <td>0.202441</td>\n",
              "      <td>-11.140498</td>\n",
              "      <td>0.094014</td>\n",
              "      <td>115.844830</td>\n",
              "      <td>0.512723</td>\n",
              "      <td>34.060945</td>\n",
              "      <td>5.412901</td>\n",
              "      <td>0.759170</td>\n",
              "      <td>13.847211</td>\n",
              "    </tr>\n",
              "    <tr>\n",
              "      <th>std</th>\n",
              "      <td>0.370614</td>\n",
              "      <td>0.176474</td>\n",
              "      <td>1.211318e+05</td>\n",
              "      <td>0.254885</td>\n",
              "      <td>0.298406</td>\n",
              "      <td>0.140884</td>\n",
              "      <td>5.771749</td>\n",
              "      <td>0.111986</td>\n",
              "      <td>25.003834</td>\n",
              "      <td>0.244421</td>\n",
              "      <td>22.376438</td>\n",
              "      <td>3.480552</td>\n",
              "      <td>0.427595</td>\n",
              "      <td>53.372544</td>\n",
              "    </tr>\n",
              "    <tr>\n",
              "      <th>min</th>\n",
              "      <td>0.000000</td>\n",
              "      <td>0.000000</td>\n",
              "      <td>1.879550e+04</td>\n",
              "      <td>0.000000</td>\n",
              "      <td>0.000000</td>\n",
              "      <td>0.000000</td>\n",
              "      <td>-60.000000</td>\n",
              "      <td>0.000000</td>\n",
              "      <td>0.000000</td>\n",
              "      <td>0.000000</td>\n",
              "      <td>0.000000</td>\n",
              "      <td>0.000000</td>\n",
              "      <td>0.000000</td>\n",
              "      <td>1.000000</td>\n",
              "    </tr>\n",
              "    <tr>\n",
              "      <th>25%</th>\n",
              "      <td>0.122296</td>\n",
              "      <td>0.431000</td>\n",
              "      <td>1.823304e+05</td>\n",
              "      <td>0.283568</td>\n",
              "      <td>0.000004</td>\n",
              "      <td>0.110363</td>\n",
              "      <td>-13.972292</td>\n",
              "      <td>0.039200</td>\n",
              "      <td>99.366500</td>\n",
              "      <td>0.329000</td>\n",
              "      <td>12.000000</td>\n",
              "      <td>2.000000</td>\n",
              "      <td>1.000000</td>\n",
              "      <td>2.000000</td>\n",
              "    </tr>\n",
              "    <tr>\n",
              "      <th>50%</th>\n",
              "      <td>0.478458</td>\n",
              "      <td>0.557000</td>\n",
              "      <td>2.186400e+05</td>\n",
              "      <td>0.504000</td>\n",
              "      <td>0.001880</td>\n",
              "      <td>0.161000</td>\n",
              "      <td>-10.088938</td>\n",
              "      <td>0.052200</td>\n",
              "      <td>115.357400</td>\n",
              "      <td>0.523243</td>\n",
              "      <td>39.000000</td>\n",
              "      <td>6.000000</td>\n",
              "      <td>1.000000</td>\n",
              "      <td>3.000000</td>\n",
              "    </tr>\n",
              "    <tr>\n",
              "      <th>75%</th>\n",
              "      <td>0.896000</td>\n",
              "      <td>0.675000</td>\n",
              "      <td>2.684670e+05</td>\n",
              "      <td>0.702783</td>\n",
              "      <td>0.215291</td>\n",
              "      <td>0.247000</td>\n",
              "      <td>-6.889000</td>\n",
              "      <td>0.095300</td>\n",
              "      <td>129.848750</td>\n",
              "      <td>0.703000</td>\n",
              "      <td>51.000000</td>\n",
              "      <td>8.000000</td>\n",
              "      <td>1.000000</td>\n",
              "      <td>8.000000</td>\n",
              "    </tr>\n",
              "    <tr>\n",
              "      <th>max</th>\n",
              "      <td>0.996000</td>\n",
              "      <td>0.986000</td>\n",
              "      <td>5.403500e+06</td>\n",
              "      <td>1.000000</td>\n",
              "      <td>1.000000</td>\n",
              "      <td>0.991000</td>\n",
              "      <td>1.342000</td>\n",
              "      <td>0.964000</td>\n",
              "      <td>217.743000</td>\n",
              "      <td>0.991000</td>\n",
              "      <td>93.000000</td>\n",
              "      <td>11.000000</td>\n",
              "      <td>1.000000</td>\n",
              "      <td>3169.000000</td>\n",
              "    </tr>\n",
              "  </tbody>\n",
              "</table>\n",
              "</div>"
            ],
            "text/plain": [
              "       acousticness  danceability  ...          mode         count\n",
              "count  28680.000000  28680.000000  ...  28680.000000  28680.000000\n",
              "mean       0.498373      0.546490  ...      0.759170     13.847211\n",
              "std        0.370614      0.176474  ...      0.427595     53.372544\n",
              "min        0.000000      0.000000  ...      0.000000      1.000000\n",
              "25%        0.122296      0.431000  ...      1.000000      2.000000\n",
              "50%        0.478458      0.557000  ...      1.000000      3.000000\n",
              "75%        0.896000      0.675000  ...      1.000000      8.000000\n",
              "max        0.996000      0.986000  ...      1.000000   3169.000000\n",
              "\n",
              "[8 rows x 14 columns]"
            ]
          },
          "metadata": {
            "tags": []
          },
          "execution_count": 16
        }
      ]
    },
    {
      "cell_type": "markdown",
      "metadata": {
        "id": "XalW4IaLuSfq"
      },
      "source": [
        "## Feature relation"
      ]
    },
    {
      "cell_type": "code",
      "metadata": {
        "colab": {
          "base_uri": "https://localhost:8080/",
          "height": 1000
        },
        "id": "mNbGsOUruSfq",
        "outputId": "9eec8ad5-1bf2-4e52-9c0b-7011836255e4"
      },
      "source": [
        "# Pairplot to inspect the correlations between the features, by removing features which don't seem to have any descriptive correlation. \n",
        "## Such as acousticness<>speachiness\n",
        "pair = sns.pairplot(df.drop(columns=['genres', \n",
        "                                     'artists', \n",
        "                                     'count', \n",
        "                                     'mode', \n",
        "                                     'key', \n",
        "                                     'duration_ms', \n",
        "                                     'instrumentalness',\n",
        "                                     'acousticness']))\n",
        "pair"
      ],
      "execution_count": null,
      "outputs": []
    },
    {
      "cell_type": "code",
      "metadata": {
        "colab": {
          "base_uri": "https://localhost:8080/",
          "height": 509
        },
        "id": "xsVC-EntuSfr",
        "outputId": "59256c82-65d4-4d3c-99ae-e68ee184eb86"
      },
      "source": [
        "# Another way of analysing correlations - The Heatmap \n",
        "corr = df.corr()\n",
        "plt.figure(figsize=(10,7))\n",
        "heatmap = sns.heatmap(corr, cmap='coolwarm')"
      ],
      "execution_count": null,
      "outputs": [
        {
          "output_type": "display_data",
          "data": {
            "image/png": "[encoded data removed]",
            "text/plain": [
              "<Figure size 720x504 with 2 Axes>"
            ]
          },
          "metadata": {
            "tags": []
          }
        }
      ]
    },
    {
      "cell_type": "markdown",
      "metadata": {
        "id": "L0KwIf6OuSf2"
      },
      "source": [
        "## Missing Values"
      ]
    },
    {
      "cell_type": "code",
      "metadata": {
        "colab": {
          "base_uri": "https://localhost:8080/"
        },
        "id": "Wg-pEtYpuSf2",
        "outputId": "bb782f0b-b486-4d4e-b937-14edf8b23f19"
      },
      "source": [
        "# checking for NaNs\n",
        "print(f'There are {sum(df.isnull().sum())} NaN values in the data set')"
      ],
      "execution_count": null,
      "outputs": [
        {
          "output_type": "stream",
          "text": [
            "There are 0 NaN values in the data set\n"
          ],
          "name": "stdout"
        }
      ]
    },
    {
      "cell_type": "code",
      "metadata": {
        "colab": {
          "base_uri": "https://localhost:8080/"
        },
        "id": "wX4_ASUUuSf3",
        "outputId": "9bf913a7-918d-4049-cc34-2c532ae5f2e6"
      },
      "source": [
        "# Inspecting genres\n",
        "print(f'empty genre lists: {sum([len(list(x)) == 0 for x in df[\"genres\"]])} in the rows')"
      ],
      "execution_count": null,
      "outputs": [
        {
          "output_type": "stream",
          "text": [
            "empty genre lists: 0 in the rows\n"
          ],
          "name": "stdout"
        }
      ]
    },
    {
      "cell_type": "code",
      "metadata": {
        "colab": {
          "base_uri": "https://localhost:8080/"
        },
        "id": "2QdBL3sBlSfq",
        "outputId": "e7603aa7-9df7-4729-b7fe-4c29aecf3aba"
      },
      "source": [
        "print(f'A total of {df[df[\"genres\"]==0].shape[0]} entries have 0 genres')"
      ],
      "execution_count": null,
      "outputs": [
        {
          "output_type": "stream",
          "text": [
            "A total of 0 entries have 0 genres\n"
          ],
          "name": "stdout"
        }
      ]
    },
    {
      "cell_type": "code",
      "metadata": {
        "colab": {
          "base_uri": "https://localhost:8080/"
        },
        "id": "cjBcmepEuSf4",
        "outputId": "8aee8cbf-51bb-48e9-9a20-e6d1b0afc13a"
      },
      "source": [
        "# inspecting popularity\n",
        "print(f'A total of {df[df[\"popularity\"]==0].shape[0]} entries have 0 popularity')"
      ],
      "execution_count": null,
      "outputs": [
        {
          "output_type": "stream",
          "text": [
            "A total of 4368 entries have 0 popularity\n"
          ],
          "name": "stdout"
        }
      ]
    },
    {
      "cell_type": "markdown",
      "metadata": {
        "id": "FnL3R-9FuSf5"
      },
      "source": [
        "Missing values at features ```genres```, ```instrumentalness```, ```popularity``` should be dropped from the data set in order not to have an unbalanced and biased model."
      ]
    },
    {
      "cell_type": "markdown",
      "metadata": {
        "id": "8E-ZwG-iuSf5"
      },
      "source": [
        "# Preprocessing"
      ]
    },
    {
      "cell_type": "markdown",
      "metadata": {
        "id": "sv9YZNNSuSf5"
      },
      "source": [
        "## Genres"
      ]
    },
    {
      "cell_type": "markdown",
      "metadata": {
        "id": "1UKAH4UsuSf6"
      },
      "source": [
        "Converting Genres into categorical data"
      ]
    },
    {
      "cell_type": "code",
      "metadata": {
        "id": "bWjtD1GbWy0h"
      },
      "source": [
        "# Normalizing the genres column\n",
        "genres = pd.DataFrame()\n",
        "genres['genres'] = df.genres.apply(lambda x: literal_eval(x)) \n",
        "avail_genres = []\n",
        "for lst in genres.genres:\n",
        "    lst = [x.replace(' ', '_') for x in lst]\n",
        "    _ = [avail_genres.append(x) for x in lst if len(lst) > 0]\n",
        "counts = {i:avail_genres.count(i) for i in avail_genres}\n",
        "#converting your apparent standard (comma-separated string) into a Python sequence\n",
        "genres_ = pd.DataFrame.from_dict(counts, \n",
        "                                 orient='index', \n",
        "                                 columns=['count']).sort_values(by='count', \n",
        "                                                                ascending=False)"
      ],
      "execution_count": null,
      "outputs": []
    },
    {
      "cell_type": "code",
      "metadata": {
        "id": "seL4ATmauSf6"
      },
      "source": [
        "# Copying to have easy access to original values\n",
        "df_enc = df.copy()"
      ],
      "execution_count": null,
      "outputs": []
    },
    {
      "cell_type": "code",
      "metadata": {
        "id": "XacMME7KuSf6"
      },
      "source": [
        "# populating the top 50 genres as OHE in df_enc and nan values to be filled with 'rock'\n",
        "top_50 = genres_.head(50).index\n",
        "def OHE_genres(df=df_enc, top_50=top_50, fillna='rock'):\n",
        "    df_cop = df.copy()\n",
        "    df_cop[top_50] = 0\n",
        "    for c, row in df_cop.iterrows():\n",
        "        for i in top_50:\n",
        "            if i in row['genres']:\n",
        "                df_cop.loc[c, i] = 1\n",
        "        if all(row[top_50] == 0):\n",
        "            df_cop.loc[c, fillna] = 1\n",
        "            \n",
        "    return df_cop \n",
        "  \n",
        "  #takes only index labels and returns row or dataframe if the index label exists in the caller data frame."
      ],
      "execution_count": null,
      "outputs": []
    },
    {
      "cell_type": "code",
      "metadata": {
        "id": "m6S-8wu-uSf7"
      },
      "source": [
        "df_enc = OHE_genres()"
      ],
      "execution_count": null,
      "outputs": []
    },
    {
      "cell_type": "code",
      "metadata": {
        "colab": {
          "base_uri": "https://localhost:8080/",
          "height": 499
        },
        "id": "vDCIIxnFuSf7",
        "outputId": "c5d6a860-d092-4460-caad-fd2ed1a8f38d"
      },
      "source": [
        "pd.set_option('display.max_columns', None)\n",
        "df_enc.head(5)"
      ],
      "execution_count": null,
      "outputs": [
        {
          "output_type": "execute_result",
          "data": {
            "text/html": [
              "<div>\n",
              "<style scoped>\n",
              "    .dataframe tbody tr th:only-of-type {\n",
              "        vertical-align: middle;\n",
              "    }\n",
              "\n",
              "    .dataframe tbody tr th {\n",
              "        vertical-align: top;\n",
              "    }\n",
              "\n",
              "    .dataframe thead th {\n",
              "        text-align: right;\n",
              "    }\n",
              "</style>\n",
              "<table border=\"1\" class=\"dataframe\">\n",
              "  <thead>\n",
              "    <tr style=\"text-align: right;\">\n",
              "      <th></th>\n",
              "      <th>genres</th>\n",
              "      <th>artists</th>\n",
              "      <th>acousticness</th>\n",
              "      <th>danceability</th>\n",
              "      <th>duration_ms</th>\n",
              "      <th>energy</th>\n",
              "      <th>instrumentalness</th>\n",
              "      <th>liveness</th>\n",
              "      <th>loudness</th>\n",
              "      <th>speechiness</th>\n",
              "      <th>tempo</th>\n",
              "      <th>valence</th>\n",
              "      <th>popularity</th>\n",
              "      <th>key</th>\n",
              "      <th>mode</th>\n",
              "      <th>count</th>\n",
              "      <th>rock</th>\n",
              "      <th>pop</th>\n",
              "      <th>dance_pop</th>\n",
              "      <th>rap</th>\n",
              "      <th>hip_hop</th>\n",
              "      <th>pop_rap</th>\n",
              "      <th>pop_rock</th>\n",
              "      <th>modern_rock</th>\n",
              "      <th>country_rock</th>\n",
              "      <th>urban_contemporary</th>\n",
              "      <th>folk_rock</th>\n",
              "      <th>latin</th>\n",
              "      <th>soft_rock</th>\n",
              "      <th>trap</th>\n",
              "      <th>mellow_gold</th>\n",
              "      <th>funk</th>\n",
              "      <th>classic_rock</th>\n",
              "      <th>adult_standards</th>\n",
              "      <th>pop_dance</th>\n",
              "      <th>indie_pop</th>\n",
              "      <th>alternative_rock</th>\n",
              "      <th>southern_hip_hop</th>\n",
              "      <th>album_rock</th>\n",
              "      <th>indie_rock</th>\n",
              "      <th>gangster_rap</th>\n",
              "      <th>alternative_metal</th>\n",
              "      <th>country</th>\n",
              "      <th>regional_mexican</th>\n",
              "      <th>new_wave_pop</th>\n",
              "      <th>soul</th>\n",
              "      <th>r&amp;b</th>\n",
              "      <th>post-teen_pop</th>\n",
              "      <th>tropical</th>\n",
              "      <th>quiet_storm</th>\n",
              "      <th>folk</th>\n",
              "      <th>hard_rock</th>\n",
              "      <th>art_rock</th>\n",
              "      <th>dance_rock</th>\n",
              "      <th>classical_performance</th>\n",
              "      <th>roots_rock</th>\n",
              "      <th>edm</th>\n",
              "      <th>brill_building_pop</th>\n",
              "      <th>indie_folk</th>\n",
              "      <th>electropop</th>\n",
              "      <th>contemporary_country</th>\n",
              "      <th>hip_pop</th>\n",
              "      <th>blues_rock</th>\n",
              "      <th>underground_hip_hop</th>\n",
              "      <th>corrido</th>\n",
              "      <th>stomp_and_holler</th>\n",
              "    </tr>\n",
              "  </thead>\n",
              "  <tbody>\n",
              "    <tr>\n",
              "      <th>0</th>\n",
              "      <td>['show tunes']</td>\n",
              "      <td>\"Cats\" 1981 Original London Cast</td>\n",
              "      <td>0.590111</td>\n",
              "      <td>0.467222</td>\n",
              "      <td>250318.555556</td>\n",
              "      <td>0.394003</td>\n",
              "      <td>0.011400</td>\n",
              "      <td>0.290833</td>\n",
              "      <td>-14.448000</td>\n",
              "      <td>0.210389</td>\n",
              "      <td>117.518111</td>\n",
              "      <td>0.389500</td>\n",
              "      <td>38.333333</td>\n",
              "      <td>5</td>\n",
              "      <td>1</td>\n",
              "      <td>9</td>\n",
              "      <td>1</td>\n",
              "      <td>0</td>\n",
              "      <td>0</td>\n",
              "      <td>0</td>\n",
              "      <td>0</td>\n",
              "      <td>0</td>\n",
              "      <td>0</td>\n",
              "      <td>0</td>\n",
              "      <td>0</td>\n",
              "      <td>0</td>\n",
              "      <td>0</td>\n",
              "      <td>0</td>\n",
              "      <td>0</td>\n",
              "      <td>0</td>\n",
              "      <td>0</td>\n",
              "      <td>0</td>\n",
              "      <td>0</td>\n",
              "      <td>0</td>\n",
              "      <td>0</td>\n",
              "      <td>0</td>\n",
              "      <td>0</td>\n",
              "      <td>0</td>\n",
              "      <td>0</td>\n",
              "      <td>0</td>\n",
              "      <td>0</td>\n",
              "      <td>0</td>\n",
              "      <td>0</td>\n",
              "      <td>0</td>\n",
              "      <td>0</td>\n",
              "      <td>0</td>\n",
              "      <td>0</td>\n",
              "      <td>0</td>\n",
              "      <td>0</td>\n",
              "      <td>0</td>\n",
              "      <td>0</td>\n",
              "      <td>0</td>\n",
              "      <td>0</td>\n",
              "      <td>0</td>\n",
              "      <td>0</td>\n",
              "      <td>0</td>\n",
              "      <td>0</td>\n",
              "      <td>0</td>\n",
              "      <td>0</td>\n",
              "      <td>0</td>\n",
              "      <td>0</td>\n",
              "      <td>0</td>\n",
              "      <td>0</td>\n",
              "      <td>0</td>\n",
              "      <td>0</td>\n",
              "      <td>0</td>\n",
              "    </tr>\n",
              "    <tr>\n",
              "      <th>1</th>\n",
              "      <td>[]</td>\n",
              "      <td>\"Cats\" 1983 Broadway Cast</td>\n",
              "      <td>0.862538</td>\n",
              "      <td>0.441731</td>\n",
              "      <td>287280.000000</td>\n",
              "      <td>0.406808</td>\n",
              "      <td>0.081158</td>\n",
              "      <td>0.315215</td>\n",
              "      <td>-10.690000</td>\n",
              "      <td>0.176212</td>\n",
              "      <td>103.044154</td>\n",
              "      <td>0.268865</td>\n",
              "      <td>30.576923</td>\n",
              "      <td>5</td>\n",
              "      <td>1</td>\n",
              "      <td>26</td>\n",
              "      <td>1</td>\n",
              "      <td>0</td>\n",
              "      <td>0</td>\n",
              "      <td>0</td>\n",
              "      <td>0</td>\n",
              "      <td>0</td>\n",
              "      <td>0</td>\n",
              "      <td>0</td>\n",
              "      <td>0</td>\n",
              "      <td>0</td>\n",
              "      <td>0</td>\n",
              "      <td>0</td>\n",
              "      <td>0</td>\n",
              "      <td>0</td>\n",
              "      <td>0</td>\n",
              "      <td>0</td>\n",
              "      <td>0</td>\n",
              "      <td>0</td>\n",
              "      <td>0</td>\n",
              "      <td>0</td>\n",
              "      <td>0</td>\n",
              "      <td>0</td>\n",
              "      <td>0</td>\n",
              "      <td>0</td>\n",
              "      <td>0</td>\n",
              "      <td>0</td>\n",
              "      <td>0</td>\n",
              "      <td>0</td>\n",
              "      <td>0</td>\n",
              "      <td>0</td>\n",
              "      <td>0</td>\n",
              "      <td>0</td>\n",
              "      <td>0</td>\n",
              "      <td>0</td>\n",
              "      <td>0</td>\n",
              "      <td>0</td>\n",
              "      <td>0</td>\n",
              "      <td>0</td>\n",
              "      <td>0</td>\n",
              "      <td>0</td>\n",
              "      <td>0</td>\n",
              "      <td>0</td>\n",
              "      <td>0</td>\n",
              "      <td>0</td>\n",
              "      <td>0</td>\n",
              "      <td>0</td>\n",
              "      <td>0</td>\n",
              "      <td>0</td>\n",
              "      <td>0</td>\n",
              "      <td>0</td>\n",
              "    </tr>\n",
              "    <tr>\n",
              "      <th>2</th>\n",
              "      <td>[]</td>\n",
              "      <td>\"Fiddler On The Roof” Motion Picture Chorus</td>\n",
              "      <td>0.856571</td>\n",
              "      <td>0.348286</td>\n",
              "      <td>328920.000000</td>\n",
              "      <td>0.286571</td>\n",
              "      <td>0.024593</td>\n",
              "      <td>0.325786</td>\n",
              "      <td>-15.230714</td>\n",
              "      <td>0.118514</td>\n",
              "      <td>77.375857</td>\n",
              "      <td>0.354857</td>\n",
              "      <td>34.857143</td>\n",
              "      <td>0</td>\n",
              "      <td>1</td>\n",
              "      <td>7</td>\n",
              "      <td>1</td>\n",
              "      <td>0</td>\n",
              "      <td>0</td>\n",
              "      <td>0</td>\n",
              "      <td>0</td>\n",
              "      <td>0</td>\n",
              "      <td>0</td>\n",
              "      <td>0</td>\n",
              "      <td>0</td>\n",
              "      <td>0</td>\n",
              "      <td>0</td>\n",
              "      <td>0</td>\n",
              "      <td>0</td>\n",
              "      <td>0</td>\n",
              "      <td>0</td>\n",
              "      <td>0</td>\n",
              "      <td>0</td>\n",
              "      <td>0</td>\n",
              "      <td>0</td>\n",
              "      <td>0</td>\n",
              "      <td>0</td>\n",
              "      <td>0</td>\n",
              "      <td>0</td>\n",
              "      <td>0</td>\n",
              "      <td>0</td>\n",
              "      <td>0</td>\n",
              "      <td>0</td>\n",
              "      <td>0</td>\n",
              "      <td>0</td>\n",
              "      <td>0</td>\n",
              "      <td>0</td>\n",
              "      <td>0</td>\n",
              "      <td>0</td>\n",
              "      <td>0</td>\n",
              "      <td>0</td>\n",
              "      <td>0</td>\n",
              "      <td>0</td>\n",
              "      <td>0</td>\n",
              "      <td>0</td>\n",
              "      <td>0</td>\n",
              "      <td>0</td>\n",
              "      <td>0</td>\n",
              "      <td>0</td>\n",
              "      <td>0</td>\n",
              "      <td>0</td>\n",
              "      <td>0</td>\n",
              "      <td>0</td>\n",
              "      <td>0</td>\n",
              "      <td>0</td>\n",
              "      <td>0</td>\n",
              "    </tr>\n",
              "    <tr>\n",
              "      <th>3</th>\n",
              "      <td>[]</td>\n",
              "      <td>\"Fiddler On The Roof” Motion Picture Orchestra</td>\n",
              "      <td>0.884926</td>\n",
              "      <td>0.425074</td>\n",
              "      <td>262890.962963</td>\n",
              "      <td>0.245770</td>\n",
              "      <td>0.073587</td>\n",
              "      <td>0.275481</td>\n",
              "      <td>-15.639370</td>\n",
              "      <td>0.123200</td>\n",
              "      <td>88.667630</td>\n",
              "      <td>0.372030</td>\n",
              "      <td>34.851852</td>\n",
              "      <td>0</td>\n",
              "      <td>1</td>\n",
              "      <td>27</td>\n",
              "      <td>1</td>\n",
              "      <td>0</td>\n",
              "      <td>0</td>\n",
              "      <td>0</td>\n",
              "      <td>0</td>\n",
              "      <td>0</td>\n",
              "      <td>0</td>\n",
              "      <td>0</td>\n",
              "      <td>0</td>\n",
              "      <td>0</td>\n",
              "      <td>0</td>\n",
              "      <td>0</td>\n",
              "      <td>0</td>\n",
              "      <td>0</td>\n",
              "      <td>0</td>\n",
              "      <td>0</td>\n",
              "      <td>0</td>\n",
              "      <td>0</td>\n",
              "      <td>0</td>\n",
              "      <td>0</td>\n",
              "      <td>0</td>\n",
              "      <td>0</td>\n",
              "      <td>0</td>\n",
              "      <td>0</td>\n",
              "      <td>0</td>\n",
              "      <td>0</td>\n",
              "      <td>0</td>\n",
              "      <td>0</td>\n",
              "      <td>0</td>\n",
              "      <td>0</td>\n",
              "      <td>0</td>\n",
              "      <td>0</td>\n",
              "      <td>0</td>\n",
              "      <td>0</td>\n",
              "      <td>0</td>\n",
              "      <td>0</td>\n",
              "      <td>0</td>\n",
              "      <td>0</td>\n",
              "      <td>0</td>\n",
              "      <td>0</td>\n",
              "      <td>0</td>\n",
              "      <td>0</td>\n",
              "      <td>0</td>\n",
              "      <td>0</td>\n",
              "      <td>0</td>\n",
              "      <td>0</td>\n",
              "      <td>0</td>\n",
              "      <td>0</td>\n",
              "      <td>0</td>\n",
              "      <td>0</td>\n",
              "    </tr>\n",
              "    <tr>\n",
              "      <th>4</th>\n",
              "      <td>[]</td>\n",
              "      <td>\"Joseph And The Amazing Technicolor Dreamcoat\"...</td>\n",
              "      <td>0.510714</td>\n",
              "      <td>0.467143</td>\n",
              "      <td>270436.142857</td>\n",
              "      <td>0.488286</td>\n",
              "      <td>0.009400</td>\n",
              "      <td>0.195000</td>\n",
              "      <td>-10.236714</td>\n",
              "      <td>0.098543</td>\n",
              "      <td>122.835857</td>\n",
              "      <td>0.482286</td>\n",
              "      <td>43.000000</td>\n",
              "      <td>5</td>\n",
              "      <td>1</td>\n",
              "      <td>7</td>\n",
              "      <td>1</td>\n",
              "      <td>0</td>\n",
              "      <td>0</td>\n",
              "      <td>0</td>\n",
              "      <td>0</td>\n",
              "      <td>0</td>\n",
              "      <td>0</td>\n",
              "      <td>0</td>\n",
              "      <td>0</td>\n",
              "      <td>0</td>\n",
              "      <td>0</td>\n",
              "      <td>0</td>\n",
              "      <td>0</td>\n",
              "      <td>0</td>\n",
              "      <td>0</td>\n",
              "      <td>0</td>\n",
              "      <td>0</td>\n",
              "      <td>0</td>\n",
              "      <td>0</td>\n",
              "      <td>0</td>\n",
              "      <td>0</td>\n",
              "      <td>0</td>\n",
              "      <td>0</td>\n",
              "      <td>0</td>\n",
              "      <td>0</td>\n",
              "      <td>0</td>\n",
              "      <td>0</td>\n",
              "      <td>0</td>\n",
              "      <td>0</td>\n",
              "      <td>0</td>\n",
              "      <td>0</td>\n",
              "      <td>0</td>\n",
              "      <td>0</td>\n",
              "      <td>0</td>\n",
              "      <td>0</td>\n",
              "      <td>0</td>\n",
              "      <td>0</td>\n",
              "      <td>0</td>\n",
              "      <td>0</td>\n",
              "      <td>0</td>\n",
              "      <td>0</td>\n",
              "      <td>0</td>\n",
              "      <td>0</td>\n",
              "      <td>0</td>\n",
              "      <td>0</td>\n",
              "      <td>0</td>\n",
              "      <td>0</td>\n",
              "      <td>0</td>\n",
              "      <td>0</td>\n",
              "      <td>0</td>\n",
              "    </tr>\n",
              "  </tbody>\n",
              "</table>\n",
              "</div>"
            ],
            "text/plain": [
              "           genres                                            artists  \\\n",
              "0  ['show tunes']                   \"Cats\" 1981 Original London Cast   \n",
              "1              []                          \"Cats\" 1983 Broadway Cast   \n",
              "2              []        \"Fiddler On The Roof” Motion Picture Chorus   \n",
              "3              []     \"Fiddler On The Roof” Motion Picture Orchestra   \n",
              "4              []  \"Joseph And The Amazing Technicolor Dreamcoat\"...   \n",
              "\n",
              "   acousticness  danceability    duration_ms    energy  instrumentalness  \\\n",
              "0      0.590111      0.467222  250318.555556  0.394003          0.011400   \n",
              "1      0.862538      0.441731  287280.000000  0.406808          0.081158   \n",
              "2      0.856571      0.348286  328920.000000  0.286571          0.024593   \n",
              "3      0.884926      0.425074  262890.962963  0.245770          0.073587   \n",
              "4      0.510714      0.467143  270436.142857  0.488286          0.009400   \n",
              "\n",
              "   liveness   loudness  speechiness       tempo   valence  popularity  key  \\\n",
              "0  0.290833 -14.448000     0.210389  117.518111  0.389500   38.333333    5   \n",
              "1  0.315215 -10.690000     0.176212  103.044154  0.268865   30.576923    5   \n",
              "2  0.325786 -15.230714     0.118514   77.375857  0.354857   34.857143    0   \n",
              "3  0.275481 -15.639370     0.123200   88.667630  0.372030   34.851852    0   \n",
              "4  0.195000 -10.236714     0.098543  122.835857  0.482286   43.000000    5   \n",
              "\n",
              "   mode  count  rock  pop  dance_pop  rap  hip_hop  pop_rap  pop_rock  \\\n",
              "0     1      9     1    0          0    0        0        0         0   \n",
              "1     1     26     1    0          0    0        0        0         0   \n",
              "2     1      7     1    0          0    0        0        0         0   \n",
              "3     1     27     1    0          0    0        0        0         0   \n",
              "4     1      7     1    0          0    0        0        0         0   \n",
              "\n",
              "   modern_rock  country_rock  urban_contemporary  folk_rock  latin  soft_rock  \\\n",
              "0            0             0                   0          0      0          0   \n",
              "1            0             0                   0          0      0          0   \n",
              "2            0             0                   0          0      0          0   \n",
              "3            0             0                   0          0      0          0   \n",
              "4            0             0                   0          0      0          0   \n",
              "\n",
              "   trap  mellow_gold  funk  classic_rock  adult_standards  pop_dance  \\\n",
              "0     0            0     0             0                0          0   \n",
              "1     0            0     0             0                0          0   \n",
              "2     0            0     0             0                0          0   \n",
              "3     0            0     0             0                0          0   \n",
              "4     0            0     0             0                0          0   \n",
              "\n",
              "   indie_pop  alternative_rock  southern_hip_hop  album_rock  indie_rock  \\\n",
              "0          0                 0                 0           0           0   \n",
              "1          0                 0                 0           0           0   \n",
              "2          0                 0                 0           0           0   \n",
              "3          0                 0                 0           0           0   \n",
              "4          0                 0                 0           0           0   \n",
              "\n",
              "   gangster_rap  alternative_metal  country  regional_mexican  new_wave_pop  \\\n",
              "0             0                  0        0                 0             0   \n",
              "1             0                  0        0                 0             0   \n",
              "2             0                  0        0                 0             0   \n",
              "3             0                  0        0                 0             0   \n",
              "4             0                  0        0                 0             0   \n",
              "\n",
              "   soul  r&b  post-teen_pop  tropical  quiet_storm  folk  hard_rock  art_rock  \\\n",
              "0     0    0              0         0            0     0          0         0   \n",
              "1     0    0              0         0            0     0          0         0   \n",
              "2     0    0              0         0            0     0          0         0   \n",
              "3     0    0              0         0            0     0          0         0   \n",
              "4     0    0              0         0            0     0          0         0   \n",
              "\n",
              "   dance_rock  classical_performance  roots_rock  edm  brill_building_pop  \\\n",
              "0           0                      0           0    0                   0   \n",
              "1           0                      0           0    0                   0   \n",
              "2           0                      0           0    0                   0   \n",
              "3           0                      0           0    0                   0   \n",
              "4           0                      0           0    0                   0   \n",
              "\n",
              "   indie_folk  electropop  contemporary_country  hip_pop  blues_rock  \\\n",
              "0           0           0                     0        0           0   \n",
              "1           0           0                     0        0           0   \n",
              "2           0           0                     0        0           0   \n",
              "3           0           0                     0        0           0   \n",
              "4           0           0                     0        0           0   \n",
              "\n",
              "   underground_hip_hop  corrido  stomp_and_holler  \n",
              "0                    0        0                 0  \n",
              "1                    0        0                 0  \n",
              "2                    0        0                 0  \n",
              "3                    0        0                 0  \n",
              "4                    0        0                 0  "
            ]
          },
          "metadata": {
            "tags": []
          },
          "execution_count": 30
        }
      ]
    },
    {
      "cell_type": "markdown",
      "metadata": {
        "id": "kpayvzcguSf7"
      },
      "source": [
        "## Popularity"
      ]
    },
    {
      "cell_type": "markdown",
      "metadata": {
        "id": "UrroS7HYuSf8"
      },
      "source": [
        "Replacing nan with Median"
      ]
    },
    {
      "cell_type": "code",
      "metadata": {
        "id": "TVAIcArouSf8"
      },
      "source": [
        "# replacing with the median (distribution is quite normal)\n",
        "median_pop = df_enc[df_enc['popularity'] > 0].popularity.median()\n",
        "df_enc['popularity'] = df_enc.popularity.replace(0.0, median_pop)"
      ],
      "execution_count": null,
      "outputs": []
    },
    {
      "cell_type": "code",
      "metadata": {
        "colab": {
          "base_uri": "https://localhost:8080/"
        },
        "id": "Tjj4MSOSuSf8",
        "outputId": "012d199a-c069-4667-9c1c-da2985243b7e"
      },
      "source": [
        "df_enc.popularity.min()"
      ],
      "execution_count": null,
      "outputs": [
        {
          "output_type": "execute_result",
          "data": {
            "text/plain": [
              "0.009708737864077669"
            ]
          },
          "metadata": {
            "tags": []
          },
          "execution_count": 33
        }
      ]
    },
    {
      "cell_type": "markdown",
      "metadata": {
        "id": "zglSuu0suSf9"
      },
      "source": [
        "## Instrumentalness"
      ]
    },
    {
      "cell_type": "markdown",
      "metadata": {
        "id": "EHZr6LRruSf9"
      },
      "source": [
        "The feature will be dropped as about 65% of the feature are close to 0"
      ]
    },
    {
      "cell_type": "code",
      "metadata": {
        "id": "YCtxO4C1uSf-"
      },
      "source": [
        "df_enc = df_enc.drop(columns='instrumentalness')"
      ],
      "execution_count": null,
      "outputs": []
    },
    {
      "cell_type": "code",
      "metadata": {
        "colab": {
          "base_uri": "https://localhost:8080/",
          "height": 386
        },
        "id": "855OaHXauSgA",
        "outputId": "60f8911c-ee58-4429-d79b-f6cfc316c40e"
      },
      "source": [
        "df_enc.head(3)"
      ],
      "execution_count": null,
      "outputs": [
        {
          "output_type": "execute_result",
          "data": {
            "text/html": [
              "<div>\n",
              "<style scoped>\n",
              "    .dataframe tbody tr th:only-of-type {\n",
              "        vertical-align: middle;\n",
              "    }\n",
              "\n",
              "    .dataframe tbody tr th {\n",
              "        vertical-align: top;\n",
              "    }\n",
              "\n",
              "    .dataframe thead th {\n",
              "        text-align: right;\n",
              "    }\n",
              "</style>\n",
              "<table border=\"1\" class=\"dataframe\">\n",
              "  <thead>\n",
              "    <tr style=\"text-align: right;\">\n",
              "      <th></th>\n",
              "      <th>genres</th>\n",
              "      <th>artists</th>\n",
              "      <th>acousticness</th>\n",
              "      <th>danceability</th>\n",
              "      <th>duration_ms</th>\n",
              "      <th>energy</th>\n",
              "      <th>liveness</th>\n",
              "      <th>loudness</th>\n",
              "      <th>speechiness</th>\n",
              "      <th>tempo</th>\n",
              "      <th>valence</th>\n",
              "      <th>popularity</th>\n",
              "      <th>key</th>\n",
              "      <th>mode</th>\n",
              "      <th>count</th>\n",
              "      <th>rock</th>\n",
              "      <th>pop</th>\n",
              "      <th>dance_pop</th>\n",
              "      <th>rap</th>\n",
              "      <th>hip_hop</th>\n",
              "      <th>pop_rap</th>\n",
              "      <th>pop_rock</th>\n",
              "      <th>modern_rock</th>\n",
              "      <th>country_rock</th>\n",
              "      <th>urban_contemporary</th>\n",
              "      <th>folk_rock</th>\n",
              "      <th>latin</th>\n",
              "      <th>soft_rock</th>\n",
              "      <th>trap</th>\n",
              "      <th>mellow_gold</th>\n",
              "      <th>funk</th>\n",
              "      <th>classic_rock</th>\n",
              "      <th>adult_standards</th>\n",
              "      <th>pop_dance</th>\n",
              "      <th>indie_pop</th>\n",
              "      <th>alternative_rock</th>\n",
              "      <th>southern_hip_hop</th>\n",
              "      <th>album_rock</th>\n",
              "      <th>indie_rock</th>\n",
              "      <th>gangster_rap</th>\n",
              "      <th>alternative_metal</th>\n",
              "      <th>country</th>\n",
              "      <th>regional_mexican</th>\n",
              "      <th>new_wave_pop</th>\n",
              "      <th>soul</th>\n",
              "      <th>r&amp;b</th>\n",
              "      <th>post-teen_pop</th>\n",
              "      <th>tropical</th>\n",
              "      <th>quiet_storm</th>\n",
              "      <th>folk</th>\n",
              "      <th>hard_rock</th>\n",
              "      <th>art_rock</th>\n",
              "      <th>dance_rock</th>\n",
              "      <th>classical_performance</th>\n",
              "      <th>roots_rock</th>\n",
              "      <th>edm</th>\n",
              "      <th>brill_building_pop</th>\n",
              "      <th>indie_folk</th>\n",
              "      <th>electropop</th>\n",
              "      <th>contemporary_country</th>\n",
              "      <th>hip_pop</th>\n",
              "      <th>blues_rock</th>\n",
              "      <th>underground_hip_hop</th>\n",
              "      <th>corrido</th>\n",
              "      <th>stomp_and_holler</th>\n",
              "    </tr>\n",
              "  </thead>\n",
              "  <tbody>\n",
              "    <tr>\n",
              "      <th>0</th>\n",
              "      <td>['show tunes']</td>\n",
              "      <td>\"Cats\" 1981 Original London Cast</td>\n",
              "      <td>0.590111</td>\n",
              "      <td>0.467222</td>\n",
              "      <td>250318.555556</td>\n",
              "      <td>0.394003</td>\n",
              "      <td>0.290833</td>\n",
              "      <td>-14.448000</td>\n",
              "      <td>0.210389</td>\n",
              "      <td>117.518111</td>\n",
              "      <td>0.389500</td>\n",
              "      <td>38.333333</td>\n",
              "      <td>5</td>\n",
              "      <td>1</td>\n",
              "      <td>9</td>\n",
              "      <td>1</td>\n",
              "      <td>0</td>\n",
              "      <td>0</td>\n",
              "      <td>0</td>\n",
              "      <td>0</td>\n",
              "      <td>0</td>\n",
              "      <td>0</td>\n",
              "      <td>0</td>\n",
              "      <td>0</td>\n",
              "      <td>0</td>\n",
              "      <td>0</td>\n",
              "      <td>0</td>\n",
              "      <td>0</td>\n",
              "      <td>0</td>\n",
              "      <td>0</td>\n",
              "      <td>0</td>\n",
              "      <td>0</td>\n",
              "      <td>0</td>\n",
              "      <td>0</td>\n",
              "      <td>0</td>\n",
              "      <td>0</td>\n",
              "      <td>0</td>\n",
              "      <td>0</td>\n",
              "      <td>0</td>\n",
              "      <td>0</td>\n",
              "      <td>0</td>\n",
              "      <td>0</td>\n",
              "      <td>0</td>\n",
              "      <td>0</td>\n",
              "      <td>0</td>\n",
              "      <td>0</td>\n",
              "      <td>0</td>\n",
              "      <td>0</td>\n",
              "      <td>0</td>\n",
              "      <td>0</td>\n",
              "      <td>0</td>\n",
              "      <td>0</td>\n",
              "      <td>0</td>\n",
              "      <td>0</td>\n",
              "      <td>0</td>\n",
              "      <td>0</td>\n",
              "      <td>0</td>\n",
              "      <td>0</td>\n",
              "      <td>0</td>\n",
              "      <td>0</td>\n",
              "      <td>0</td>\n",
              "      <td>0</td>\n",
              "      <td>0</td>\n",
              "      <td>0</td>\n",
              "      <td>0</td>\n",
              "    </tr>\n",
              "    <tr>\n",
              "      <th>1</th>\n",
              "      <td>[]</td>\n",
              "      <td>\"Cats\" 1983 Broadway Cast</td>\n",
              "      <td>0.862538</td>\n",
              "      <td>0.441731</td>\n",
              "      <td>287280.000000</td>\n",
              "      <td>0.406808</td>\n",
              "      <td>0.315215</td>\n",
              "      <td>-10.690000</td>\n",
              "      <td>0.176212</td>\n",
              "      <td>103.044154</td>\n",
              "      <td>0.268865</td>\n",
              "      <td>30.576923</td>\n",
              "      <td>5</td>\n",
              "      <td>1</td>\n",
              "      <td>26</td>\n",
              "      <td>1</td>\n",
              "      <td>0</td>\n",
              "      <td>0</td>\n",
              "      <td>0</td>\n",
              "      <td>0</td>\n",
              "      <td>0</td>\n",
              "      <td>0</td>\n",
              "      <td>0</td>\n",
              "      <td>0</td>\n",
              "      <td>0</td>\n",
              "      <td>0</td>\n",
              "      <td>0</td>\n",
              "      <td>0</td>\n",
              "      <td>0</td>\n",
              "      <td>0</td>\n",
              "      <td>0</td>\n",
              "      <td>0</td>\n",
              "      <td>0</td>\n",
              "      <td>0</td>\n",
              "      <td>0</td>\n",
              "      <td>0</td>\n",
              "      <td>0</td>\n",
              "      <td>0</td>\n",
              "      <td>0</td>\n",
              "      <td>0</td>\n",
              "      <td>0</td>\n",
              "      <td>0</td>\n",
              "      <td>0</td>\n",
              "      <td>0</td>\n",
              "      <td>0</td>\n",
              "      <td>0</td>\n",
              "      <td>0</td>\n",
              "      <td>0</td>\n",
              "      <td>0</td>\n",
              "      <td>0</td>\n",
              "      <td>0</td>\n",
              "      <td>0</td>\n",
              "      <td>0</td>\n",
              "      <td>0</td>\n",
              "      <td>0</td>\n",
              "      <td>0</td>\n",
              "      <td>0</td>\n",
              "      <td>0</td>\n",
              "      <td>0</td>\n",
              "      <td>0</td>\n",
              "      <td>0</td>\n",
              "      <td>0</td>\n",
              "      <td>0</td>\n",
              "      <td>0</td>\n",
              "      <td>0</td>\n",
              "    </tr>\n",
              "    <tr>\n",
              "      <th>2</th>\n",
              "      <td>[]</td>\n",
              "      <td>\"Fiddler On The Roof” Motion Picture Chorus</td>\n",
              "      <td>0.856571</td>\n",
              "      <td>0.348286</td>\n",
              "      <td>328920.000000</td>\n",
              "      <td>0.286571</td>\n",
              "      <td>0.325786</td>\n",
              "      <td>-15.230714</td>\n",
              "      <td>0.118514</td>\n",
              "      <td>77.375857</td>\n",
              "      <td>0.354857</td>\n",
              "      <td>34.857143</td>\n",
              "      <td>0</td>\n",
              "      <td>1</td>\n",
              "      <td>7</td>\n",
              "      <td>1</td>\n",
              "      <td>0</td>\n",
              "      <td>0</td>\n",
              "      <td>0</td>\n",
              "      <td>0</td>\n",
              "      <td>0</td>\n",
              "      <td>0</td>\n",
              "      <td>0</td>\n",
              "      <td>0</td>\n",
              "      <td>0</td>\n",
              "      <td>0</td>\n",
              "      <td>0</td>\n",
              "      <td>0</td>\n",
              "      <td>0</td>\n",
              "      <td>0</td>\n",
              "      <td>0</td>\n",
              "      <td>0</td>\n",
              "      <td>0</td>\n",
              "      <td>0</td>\n",
              "      <td>0</td>\n",
              "      <td>0</td>\n",
              "      <td>0</td>\n",
              "      <td>0</td>\n",
              "      <td>0</td>\n",
              "      <td>0</td>\n",
              "      <td>0</td>\n",
              "      <td>0</td>\n",
              "      <td>0</td>\n",
              "      <td>0</td>\n",
              "      <td>0</td>\n",
              "      <td>0</td>\n",
              "      <td>0</td>\n",
              "      <td>0</td>\n",
              "      <td>0</td>\n",
              "      <td>0</td>\n",
              "      <td>0</td>\n",
              "      <td>0</td>\n",
              "      <td>0</td>\n",
              "      <td>0</td>\n",
              "      <td>0</td>\n",
              "      <td>0</td>\n",
              "      <td>0</td>\n",
              "      <td>0</td>\n",
              "      <td>0</td>\n",
              "      <td>0</td>\n",
              "      <td>0</td>\n",
              "      <td>0</td>\n",
              "      <td>0</td>\n",
              "      <td>0</td>\n",
              "      <td>0</td>\n",
              "    </tr>\n",
              "  </tbody>\n",
              "</table>\n",
              "</div>"
            ],
            "text/plain": [
              "           genres                                      artists  acousticness  \\\n",
              "0  ['show tunes']             \"Cats\" 1981 Original London Cast      0.590111   \n",
              "1              []                    \"Cats\" 1983 Broadway Cast      0.862538   \n",
              "2              []  \"Fiddler On The Roof” Motion Picture Chorus      0.856571   \n",
              "\n",
              "   danceability    duration_ms    energy  liveness   loudness  speechiness  \\\n",
              "0      0.467222  250318.555556  0.394003  0.290833 -14.448000     0.210389   \n",
              "1      0.441731  287280.000000  0.406808  0.315215 -10.690000     0.176212   \n",
              "2      0.348286  328920.000000  0.286571  0.325786 -15.230714     0.118514   \n",
              "\n",
              "        tempo   valence  popularity  key  mode  count  rock  pop  dance_pop  \\\n",
              "0  117.518111  0.389500   38.333333    5     1      9     1    0          0   \n",
              "1  103.044154  0.268865   30.576923    5     1     26     1    0          0   \n",
              "2   77.375857  0.354857   34.857143    0     1      7     1    0          0   \n",
              "\n",
              "   rap  hip_hop  pop_rap  pop_rock  modern_rock  country_rock  \\\n",
              "0    0        0        0         0            0             0   \n",
              "1    0        0        0         0            0             0   \n",
              "2    0        0        0         0            0             0   \n",
              "\n",
              "   urban_contemporary  folk_rock  latin  soft_rock  trap  mellow_gold  funk  \\\n",
              "0                   0          0      0          0     0            0     0   \n",
              "1                   0          0      0          0     0            0     0   \n",
              "2                   0          0      0          0     0            0     0   \n",
              "\n",
              "   classic_rock  adult_standards  pop_dance  indie_pop  alternative_rock  \\\n",
              "0             0                0          0          0                 0   \n",
              "1             0                0          0          0                 0   \n",
              "2             0                0          0          0                 0   \n",
              "\n",
              "   southern_hip_hop  album_rock  indie_rock  gangster_rap  alternative_metal  \\\n",
              "0                 0           0           0             0                  0   \n",
              "1                 0           0           0             0                  0   \n",
              "2                 0           0           0             0                  0   \n",
              "\n",
              "   country  regional_mexican  new_wave_pop  soul  r&b  post-teen_pop  \\\n",
              "0        0                 0             0     0    0              0   \n",
              "1        0                 0             0     0    0              0   \n",
              "2        0                 0             0     0    0              0   \n",
              "\n",
              "   tropical  quiet_storm  folk  hard_rock  art_rock  dance_rock  \\\n",
              "0         0            0     0          0         0           0   \n",
              "1         0            0     0          0         0           0   \n",
              "2         0            0     0          0         0           0   \n",
              "\n",
              "   classical_performance  roots_rock  edm  brill_building_pop  indie_folk  \\\n",
              "0                      0           0    0                   0           0   \n",
              "1                      0           0    0                   0           0   \n",
              "2                      0           0    0                   0           0   \n",
              "\n",
              "   electropop  contemporary_country  hip_pop  blues_rock  underground_hip_hop  \\\n",
              "0           0                     0        0           0                    0   \n",
              "1           0                     0        0           0                    0   \n",
              "2           0                     0        0           0                    0   \n",
              "\n",
              "   corrido  stomp_and_holler  \n",
              "0        0                 0  \n",
              "1        0                 0  \n",
              "2        0                 0  "
            ]
          },
          "metadata": {
            "tags": []
          },
          "execution_count": 35
        }
      ]
    },
    {
      "cell_type": "markdown",
      "metadata": {
        "id": "xLtpZZ3guSgB"
      },
      "source": [
        "## Target"
      ]
    },
    {
      "cell_type": "markdown",
      "metadata": {
        "id": "5NOtrMiAuSgC"
      },
      "source": [
        "For the artist recommender we only want to find out the vicinity of artists to each other. Therefore we won't need a ```target```."
      ]
    },
    {
      "cell_type": "code",
      "metadata": {
        "id": "wuhoZRNruSgC"
      },
      "source": [
        "df_enc['target'] = 0"
      ],
      "execution_count": null,
      "outputs": []
    },
    {
      "cell_type": "code",
      "metadata": {
        "colab": {
          "base_uri": "https://localhost:8080/"
        },
        "id": "OLj10alQuSgD",
        "outputId": "0e64236c-3d43-4db7-bc85-07b7fb0a0348"
      },
      "source": [
        "df_enc.drop(columns=['artists', 'genres', 'target']).shape"
      ],
      "execution_count": null,
      "outputs": [
        {
          "output_type": "execute_result",
          "data": {
            "text/plain": [
              "(28680, 63)"
            ]
          },
          "metadata": {
            "tags": []
          },
          "execution_count": 37
        }
      ]
    },
    {
      "cell_type": "markdown",
      "metadata": {
        "id": "p_O7UveIuSgE"
      },
      "source": [
        "# Model"
      ]
    },
    {
      "cell_type": "markdown",
      "metadata": {
        "id": "NV-exWzjuSgE"
      },
      "source": [
        "We have a very simple KNeighbors model to define the artists which are lying close to each other measured by the given input features. "
      ]
    },
    {
      "cell_type": "code",
      "metadata": {
        "colab": {
          "base_uri": "https://localhost:8080/"
        },
        "id": "wYHGQMhuuSgF",
        "outputId": "cc97e964-c55b-454b-f2f5-9c6b2a88b15f"
      },
      "source": [
        "# Define X and y\n",
        "X = df_enc.drop(columns=['artists', 'genres', 'target']) # Remove non numerical features\n",
        "y = df_enc['target']\n",
        "\n",
        "knn_model = KNeighborsRegressor().fit(X, y) # Instanciate and train model\n",
        "\n",
        "pred = knn_model.predict(X)\n",
        "print(classification_report(y,pred))\n"
      ],
      "execution_count": null,
      "outputs": [
        {
          "output_type": "stream",
          "text": [
            "              precision    recall  f1-score   support\n",
            "\n",
            "           0       1.00      1.00      1.00     28680\n",
            "\n",
            "    accuracy                           1.00     28680\n",
            "   macro avg       1.00      1.00      1.00     28680\n",
            "weighted avg       1.00      1.00      1.00     28680\n",
            "\n"
          ],
          "name": "stdout"
        }
      ]
    },
    {
      "cell_type": "markdown",
      "metadata": {
        "id": "hhreNq1wuSgF"
      },
      "source": [
        "# Recommender"
      ]
    },
    {
      "cell_type": "code",
      "metadata": {
        "id": "p61lm3DKuSgG"
      },
      "source": [
        "def normalize(inpt):\n",
        "    \"\"\"\n",
        "    removing interpunction, trimming whitespaces and replacing spacial chars with their nearest relatives.\n",
        "    inpt: a string you wish to normalize.\n",
        "    returns: the normalized string.\n",
        "    \"\"\"\n",
        "    reg = re.sub(r'[^\\w\\s]', ' ', inpt.lower())\n",
        "    white = re.sub(r'\\s+', ' ', reg)\n",
        "    uni = unicodedata.normalize('NFKD', white).encode('ascii','ignore').decode('utf8')\n",
        "    return uni"
      ],
      "execution_count": null,
      "outputs": []
    },
    {
      "cell_type": "code",
      "metadata": {
        "id": "UFjydEOEuSgG"
      },
      "source": [
        "def finder(artist, data=df_enc):\n",
        "    \"\"\"\n",
        "    will find your favourite artist in a given dataframe under the column name 'artist'.\n",
        "    Pass the artist name (str) and the data frame (pd.DataFrame).\n",
        "    returns: a pd.DataFrame containing the row of your searched artist\n",
        "    \"\"\"\n",
        "    df_cop = data.copy()\n",
        "    df_cop['artists'] = df_cop.artists.apply(lambda x: normalize(x))\n",
        "    artist = normalize(artist)\n",
        "    print(f'looking for normalized term {artist}')\n",
        "    try:\n",
        "        # try to find the whole search term in artists via bool indexing\n",
        "        ix = df_cop.artists[df_cop.artists == artist].index[0]\n",
        "        print('found via bool indexing')\n",
        "        return pd.DataFrame(df_cop.loc[ix,:]).T\n",
        "    except:\n",
        "        # tokenize search term\n",
        "        search = artist.split(' ')\n",
        "        # get index of searched term\n",
        "        ixs = []\n",
        "        for i, row in df_cop.iterrows():\n",
        "            splt = row['artists'].lower().split(' ')\n",
        "            found = [x in splt for x in search]\n",
        "            if sum(found) >= len(found)/2:\n",
        "                ixs.append(i)\n",
        "        if len(ixs) > 0:\n",
        "            print('found alternatives via tokenized search')\n",
        "            print(f'did you mean...')\n",
        "            return list(df_cop.artists[ixs])\n",
        "        else:\n",
        "            print('could not find your artist. Please refine your search.')\n",
        "            return 'please refine your search'"
      ],
      "execution_count": null,
      "outputs": []
    },
    {
      "cell_type": "code",
      "metadata": {
        "id": "zxVCpz8puSgG"
      },
      "source": [
        "def recommend_artist(artist, neighbors ,model=knn_model, df=df_enc ):\n",
        "    \"\"\"\n",
        "    will find the nearest neighbors of the desired artist.\n",
        "    pass the artists name, the fitted model and the pd.DataFrame suiting the model.\n",
        "    returns a list of recommended artists similar to the imput artist.\n",
        "    \"\"\"\n",
        "    inpt = finder(artist, data=df)\n",
        "    if isinstance(inpt, pd.DataFrame):\n",
        "        nearest = knn_model.kneighbors(inpt.drop(columns=['artists', 'genres', 'target']),n_neighbors=neighbors+1) # Return the distances and index of the n closest points\n",
        "        indexes = list(nearest[1][0])\n",
        "        return list(df.artists[indexes[1:]])\n",
        "    else:\n",
        "        print(inpt)"
      ],
      "execution_count": null,
      "outputs": []
    },
    {
      "cell_type": "markdown",
      "metadata": {
        "id": "jVBDLEXiuSgH"
      },
      "source": [
        "## Demo"
      ]
    },
    {
      "cell_type": "code",
      "metadata": {
        "colab": {
          "base_uri": "https://localhost:8080/"
        },
        "id": "MsnBdgRmuSgH",
        "outputId": "4223744a-7b82-495f-fdd9-ff7f4e0673c8"
      },
      "source": [
        "artist = input('Your favoutite artist:')\n",
        "neighbors= int(input('Number of neighbors:'))\n",
        "recommend_artist(artist,neighbors)"
      ],
      "execution_count": null,
      "outputs": [
        {
          "output_type": "stream",
          "text": [
            "Your favoutite artist:taylor\n",
            "Number of neighbors:10\n",
            "looking for normalized term taylor\n",
            "found alternatives via tokenized search\n",
            "did you mean...\n",
            "['art taylor', 'betty taylor', 'billy taylor', 'bobby taylor the vancouvers', 'cecil taylor', 'chris the glove taylor', 'corey taylor', 'crain taylor', 'ebo taylor', 'elizabeth taylor', 'femi taylor', 'gloria ann taylor', 'hound dog taylor', 'jackson taylor the sinners', 'james taylor', 'johnnie taylor', 'karen taylor good', 'koko taylor', 'lafa taylor', 'livingston taylor', 'mick taylor', 'mike taylor', 'natalie taylor', 'neilson taylor', 'nicki taylor', 'paul taylor', 'samuel coleridge taylor', 'taylor davis', 'taylor dayne', 'taylor hawkins', 'taylor louderman', 'taylor momsen', 'taylor ray holbrook', 'taylor swift', 'ted taylor', 'teyana taylor', 'the ben taylor band', 'william taylor']\n"
          ],
          "name": "stdout"
        }
      ]
    },
    {
      "cell_type": "code",
      "metadata": {
        "id": "nMcDpRWzoRiI"
      },
      "source": [
        ""
      ],
      "execution_count": null,
      "outputs": []
    }
  ]
}